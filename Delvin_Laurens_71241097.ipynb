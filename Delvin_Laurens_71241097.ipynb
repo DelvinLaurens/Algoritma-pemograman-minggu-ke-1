{
  "nbformat": 4,
  "nbformat_minor": 0,
  "metadata": {
    "colab": {
      "provenance": []
    },
    "kernelspec": {
      "name": "python3",
      "display_name": "Python 3"
    },
    "language_info": {
      "name": "python"
    }
  },
  "cells": [
    {
      "cell_type": "code",
      "execution_count": 14,
      "metadata": {
        "colab": {
          "base_uri": "https://localhost:8080/"
        },
        "id": "hMbLSKapEMrX",
        "outputId": "ea2fbaff-d9d6-49d7-a514-a9400a7955cf"
      },
      "outputs": [
        {
          "output_type": "stream",
          "name": "stdout",
          "text": [
            "Keuntungan adalah 25 gram emas:\n",
            "keuntungan dalam Rp: 875000\n",
            "keuntungan dalam persen: 5.38\n",
            "Keuntungan adalah 40 gram emas:\n",
            "keuntungan dalam Rp: 1200000\n",
            "keuntungan dalam persen: 4.38\n"
          ]
        }
      ],
      "source": [
        "gramemas = 25\n",
        "hargabeliemas = 650000\n",
        "hargajualemas = 685000\n",
        "modal = gramemas * hargabeliemas\n",
        "jualemas = gramemas * hargajualemas\n",
        "profit = jualemas - modal\n",
        "profitpersen = (profit / modal) * 100\n",
        "print(\"Keuntungan adalah 25 gram emas:\")\n",
        "print(\"keuntungan dalam Rp: {}\".format(profit))\n",
        "print(\"keuntungan dalam persen: {:.2f}\".format(profitpersen))\n",
        "\n",
        "gramemas2 = 40\n",
        "hargabeliemas2 = 685000\n",
        "hargajualemas2 = 715000\n",
        "modal2 = gramemas2 * hargabeliemas2\n",
        "jualemas2 = gramemas2 * hargajualemas2\n",
        "profit2 = jualemas2 - modal2\n",
        "profitpersen2 = (profit2 / modal2) * 100\n",
        "print(\"Keuntungan adalah 40 gram emas:\")\n",
        "print(\"keuntungan dalam Rp: {}\".format(profit2))\n",
        "print(\"keuntungan dalam persen: {:.2f}\".format(profitpersen2))\n",
        "\n",
        "\n"
      ]
    }
  ]
}