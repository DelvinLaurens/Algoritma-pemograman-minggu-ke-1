{
  "nbformat": 4,
  "nbformat_minor": 0,
  "metadata": {
    "colab": {
      "provenance": []
    },
    "kernelspec": {
      "name": "python3",
      "display_name": "Python 3"
    },
    "language_info": {
      "name": "python"
    }
  },
  "cells": [
    {
      "cell_type": "code",
      "execution_count": 5,
      "metadata": {
        "colab": {
          "base_uri": "https://localhost:8080/"
        },
        "id": "RfWwAYA_GfVo",
        "outputId": "5a15d074-e472-4332-bef9-7c87340830c8"
      },
      "outputs": [
        {
          "output_type": "stream",
          "name": "stdout",
          "text": [
            "Waktu yang dibutuhkan erika adalah : 7.27\n"
          ]
        }
      ],
      "source": [
        "import math\n",
        "uangerika = 200\n",
        "tujuanerika = 400\n",
        "bunga = 0.1\n",
        "waktu = math.log(tujuanerika / uangerika) / math.log(1 + bunga)\n",
        "print(\"Waktu yang dibutuhkan erika adalah : {:.2f}\".format(waktu))"
      ]
    }
  ]
}